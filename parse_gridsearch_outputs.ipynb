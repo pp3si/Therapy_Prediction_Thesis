{
 "cells": [
  {
   "cell_type": "code",
   "execution_count": null,
   "metadata": {
    "vscode": {
     "languageId": "plaintext"
    }
   },
   "outputs": [],
   "source": [
    "import os\n",
    "import numpy as np"
   ]
  },
  {
   "cell_type": "code",
   "execution_count": null,
   "metadata": {
    "vscode": {
     "languageId": "plaintext"
    }
   },
   "outputs": [],
   "source": [
    "types_list = [str, int, int, int, float, int, float, int, int]\n",
    "names_list = [\"out_folder\", \"width\", \"hidden_size\", \"num_layers\", \"dropout\", \"batch_size\", \"learning_rate\", \"cv\", \"num_epochs\"]\n",
    "#Both must match that in LSTM_config_runner.py"
   ]
  },
  {
   "cell_type": "code",
   "execution_count": null,
   "metadata": {
    "vscode": {
     "languageId": "plaintext"
    }
   },
   "outputs": [],
   "source": [
    "#For file in grid_search_outputs:\n",
    "best_settings = None\n",
    "best_mse = np.inf\n",
    "for j, file in enumerate(os.listdir(os.fsencode('PLACEHOLDER_FOLDER_2'))): #Manually move your outfiles into this folder, then run\n",
    "\n",
    "    #Get the config file number\n",
    "    config_number = int(os.fsdecode(file)[14:-4]) #Set appropriately to catch the config number according to the names of your files\n",
    "    #Check the config settings\n",
    "    config_fname = \"PLACEHOLDER_FOLDER_0/config_\"+str(config_number)+\".in\"\n",
    "    with open(config_fname, 'r') as config_file:\n",
    "        config_lines = [types_list[i](line.strip()) for i, line in enumerate(config_file.readlines())]\n",
    "    #If dropout > 0 and num_layers = 1: skip\n",
    "    if config_lines[np.argmax(np.array(names_list) == \"dropout\")] > 0 and config_lines[np.argmax(np.array(names_list) == \"num_layers\")] < 2:\n",
    "        continue\n",
    "\n",
    "    #Read log file for final averaged MSE\n",
    "    with open('PLACEHOLDER_FOLDER_2/'+os.fsdecode(file), 'r') as log_file: #was grid_search_outputs, then new_cleaning_gridsearch_out_files\n",
    "        log_lines = [line.strip() for line in log_file.readlines()]\n",
    "    #The last line is assumed to be \"Mean final OOS MSE: ###.########\"\n",
    "    #   with the ###.#### being any number of digits, possibly a decimal point, and then some more digits\n",
    "    #   (nothing else at the end)\n",
    "    mse = float(log_lines[-1][20:])\n",
    "\n",
    "    #If better than previous best:\n",
    "        #Store current settings\n",
    "        #Store the best MSE\n",
    "    if mse < best_mse:\n",
    "        best_settings = config_lines\n",
    "        best_mse = mse\n",
    "#Return the best MSE\n",
    "print(f\"Best MSE: {best_mse}\")\n",
    "names_list = [\"out_folder\", \"width\", \"hidden_size\", \"num_layers\", \"dropout\", \"batch_size\", \"learning_rate\", \"cv\", \"num_epochs\"]\n",
    "print(\"Best hyperparameters:\")\n",
    "for i, setting in enumerate(best_settings):\n",
    "    print(f\"\\t{names_list[i]}: {setting}\")"
   ]
  }
 ],
 "metadata": {
  "language_info": {
   "name": "python"
  }
 },
 "nbformat": 4,
 "nbformat_minor": 2
}
